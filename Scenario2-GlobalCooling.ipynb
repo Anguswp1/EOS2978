{
 "cells": [
  {
   "cell_type": "code",
   "execution_count": 1,
   "metadata": {},
   "outputs": [],
   "source": [
    "#this notebook runs the PYQG layered model based on the A20 section from 2011, but has been altered to \n",
    "#represent the effects of global cooling which have led to decreased stratification and a smaller mixed \n",
    "#layer\n",
    "# http://whp-atlas.ucsd.edu/atlantic/a20/sections/printatlas/printatlas.htm "
   ]
  },
  {
   "cell_type": "code",
   "execution_count": 2,
   "metadata": {},
   "outputs": [],
   "source": [
    "import numpy as np\n",
    "from matplotlib import pyplot as plt\n",
    "%matplotlib inline\n",
    "import pyqg"
   ]
  },
  {
   "cell_type": "code",
   "execution_count": 3,
   "metadata": {},
   "outputs": [],
   "source": [
    "#now to try to run the three layer model(proper PYQG)\n",
    "from pyqg import diagnostic_tools as tools\n",
    "#this sets up the layers\n",
    "L =  1000.e3     # length scale of box    [m]\n",
    "Ld = 15.e3       # deformation scale      [m]\n",
    "kd = 1./Ld       # deformation wavenumber [m^-1]\n",
    "Nx = 256         # number of grid points\n",
    "\n",
    "H1 = 400.        # layer 1 thickness  [m]\n",
    "H2 = 1100.       # layer 2\n",
    "H3 = 3500.       # layer 3\n",
    "\n",
    "U1 = 0.05          # layer 1 zonal velocity [m/s]\n",
    "U2 = 0.025         # layer 2\n",
    "U3 = 0.00          # layer 3\n",
    "\n",
    "rho1 = 1026.\n",
    "rho2 = 1027.9\n",
    "rho3 = 1028.\n",
    "\n",
    "rek = 1.e-7       # linear bottom drag coeff.  [s^-1]\n",
    "f0  = 0.0001236812857687059 # coriolis param [s^-1]\n",
    "beta = 1.2130692965249345e-11 # planetary vorticity gradient [m^-1 s^-1]\n",
    "\n",
    "Ti = Ld/(abs(U1))  # estimate of most unstable e-folding time scale [s]\n",
    "dt = Ti/800.   # time-step [s]\n",
    "tmax = 300*Ti      # simulation time [s]\n"
   ]
  },
  {
   "cell_type": "code",
   "execution_count": 4,
   "metadata": {},
   "outputs": [
    {
     "name": "stderr",
     "output_type": "stream",
     "text": [
      "INFO:  Logger initialized\n"
     ]
    }
   ],
   "source": [
    "#this defines the model from all of the set-up parameters above\n",
    "m = pyqg.LayeredModel(nx=Nx, nz=3, U = [U1,U2,U3],V = [0.,0.,0.],L=L,f=f0,beta=beta,\n",
    "                         H = [H1,H2,H3], rho=[rho1,rho2,rho3],rek=rek,\n",
    "                        dt=dt,tmax=tmax, twrite=5000, tavestart=Ti*10)"
   ]
  },
  {
   "cell_type": "code",
   "execution_count": 5,
   "metadata": {},
   "outputs": [],
   "source": [
    "#this sets up the initial conditions for the model\n",
    "#in the original code, delta is not specified \n",
    "#delta = 0.5\n",
    "sig = 1.e-7\n",
    "qi = sig*np.vstack([np.random.randn(m.nx,m.ny)[np.newaxis,],\n",
    "                    np.random.randn(m.nx,m.ny)[np.newaxis,],\n",
    "                    np.random.randn(m.nx,m.ny)[np.newaxis,]])\n",
    "m.set_q(qi)"
   ]
  },
  {
   "cell_type": "code",
   "execution_count": 6,
   "metadata": {},
   "outputs": [
    {
     "name": "stderr",
     "output_type": "stream",
     "text": [
      "INFO: Step: 5000, Time: 1.88e+06, KE: 3.92e-08, CFL: 0.005\n",
      "INFO: Step: 10000, Time: 3.75e+06, KE: 8.41e-08, CFL: 0.005\n",
      "INFO: Step: 15000, Time: 5.62e+06, KE: 3.25e-07, CFL: 0.005\n",
      "INFO: Step: 20000, Time: 7.50e+06, KE: 1.70e-06, CFL: 0.005\n",
      "INFO: Step: 25000, Time: 9.38e+06, KE: 9.93e-06, CFL: 0.005\n",
      "INFO: Step: 30000, Time: 1.12e+07, KE: 6.07e-05, CFL: 0.006\n",
      "INFO: Step: 35000, Time: 1.31e+07, KE: 3.58e-04, CFL: 0.014\n",
      "INFO: Step: 40000, Time: 1.50e+07, KE: 1.73e-03, CFL: 0.029\n",
      "INFO: Step: 45000, Time: 1.69e+07, KE: 3.92e-03, CFL: 0.037\n",
      "INFO: Step: 50000, Time: 1.88e+07, KE: 7.72e-03, CFL: 0.059\n",
      "INFO: Step: 55000, Time: 2.06e+07, KE: 1.58e-02, CFL: 0.070\n",
      "INFO: Step: 60000, Time: 2.25e+07, KE: 2.60e-02, CFL: 0.080\n",
      "INFO: Step: 65000, Time: 2.44e+07, KE: 3.76e-02, CFL: 0.104\n",
      "INFO: Step: 70000, Time: 2.62e+07, KE: 5.75e-02, CFL: 0.117\n",
      "INFO: Step: 75000, Time: 2.81e+07, KE: 1.00e-01, CFL: 0.140\n",
      "INFO: Step: 80000, Time: 3.00e+07, KE: 1.45e-01, CFL: 0.175\n",
      "INFO: Step: 85000, Time: 3.19e+07, KE: 2.03e-01, CFL: 0.206\n",
      "INFO: Step: 90000, Time: 3.38e+07, KE: 2.59e-01, CFL: 0.204\n",
      "INFO: Step: 95000, Time: 3.56e+07, KE: 2.94e-01, CFL: 0.242\n",
      "INFO: Step: 100000, Time: 3.75e+07, KE: 4.39e-01, CFL: 0.281\n",
      "INFO: Step: 105000, Time: 3.94e+07, KE: 4.76e-01, CFL: 0.310\n",
      "INFO: Step: 110000, Time: 4.12e+07, KE: 5.38e-01, CFL: 0.309\n",
      "INFO: Step: 115000, Time: 4.31e+07, KE: 5.98e-01, CFL: 0.275\n",
      "INFO: Step: 120000, Time: 4.50e+07, KE: 7.04e-01, CFL: 0.403\n",
      "INFO: Step: 125000, Time: 4.69e+07, KE: nan, CFL:  nan\n",
      "ERROR: CFL condition violated\n"
     ]
    },
    {
     "ename": "AssertionError",
     "evalue": "None",
     "output_type": "error",
     "traceback": [
      "\u001b[0;31m---------------------------------------------------------------------------\u001b[0m",
      "\u001b[0;31mAssertionError\u001b[0m                            Traceback (most recent call last)",
      "\u001b[0;32m<ipython-input-6-6b9a2610bf03>\u001b[0m in \u001b[0;36m<module>\u001b[0;34m\u001b[0m\n\u001b[1;32m      1\u001b[0m \u001b[0;31m#now, we run the model\u001b[0m\u001b[0;34m\u001b[0m\u001b[0;34m\u001b[0m\u001b[0;34m\u001b[0m\u001b[0m\n\u001b[0;32m----> 2\u001b[0;31m \u001b[0mm\u001b[0m\u001b[0;34m.\u001b[0m\u001b[0mrun\u001b[0m\u001b[0;34m(\u001b[0m\u001b[0;34m)\u001b[0m\u001b[0;34m\u001b[0m\u001b[0;34m\u001b[0m\u001b[0m\n\u001b[0m",
      "\u001b[0;32m/mnt/local/python3.6/lib/python3.6/site-packages/pyqg-0.3.0+2.g38f13fd-py3.6-linux-x86_64.egg/pyqg/model.py\u001b[0m in \u001b[0;36mrun\u001b[0;34m(self)\u001b[0m\n\u001b[1;32m    227\u001b[0m         \u001b[0;34m\"\"\"Run the model forward without stopping until the end.\"\"\"\u001b[0m\u001b[0;34m\u001b[0m\u001b[0;34m\u001b[0m\u001b[0m\n\u001b[1;32m    228\u001b[0m         \u001b[0;32mwhile\u001b[0m\u001b[0;34m(\u001b[0m\u001b[0mself\u001b[0m\u001b[0;34m.\u001b[0m\u001b[0mt\u001b[0m \u001b[0;34m<\u001b[0m \u001b[0mself\u001b[0m\u001b[0;34m.\u001b[0m\u001b[0mtmax\u001b[0m\u001b[0;34m)\u001b[0m\u001b[0;34m:\u001b[0m\u001b[0;34m\u001b[0m\u001b[0;34m\u001b[0m\u001b[0m\n\u001b[0;32m--> 229\u001b[0;31m             \u001b[0mself\u001b[0m\u001b[0;34m.\u001b[0m\u001b[0m_step_forward\u001b[0m\u001b[0;34m(\u001b[0m\u001b[0;34m)\u001b[0m\u001b[0;34m\u001b[0m\u001b[0;34m\u001b[0m\u001b[0m\n\u001b[0m\u001b[1;32m    230\u001b[0m \u001b[0;34m\u001b[0m\u001b[0m\n\u001b[1;32m    231\u001b[0m \u001b[0;34m\u001b[0m\u001b[0m\n",
      "\u001b[0;32m/mnt/local/python3.6/lib/python3.6/site-packages/pyqg-0.3.0+2.g38f13fd-py3.6-linux-x86_64.egg/pyqg/model.py\u001b[0m in \u001b[0;36m_step_forward\u001b[0;34m(self)\u001b[0m\n\u001b[1;32m    365\u001b[0m \u001b[0;34m\u001b[0m\u001b[0m\n\u001b[1;32m    366\u001b[0m         \u001b[0;31m# the basic steps are\u001b[0m\u001b[0;34m\u001b[0m\u001b[0;34m\u001b[0m\u001b[0;34m\u001b[0m\u001b[0m\n\u001b[0;32m--> 367\u001b[0;31m         \u001b[0mself\u001b[0m\u001b[0;34m.\u001b[0m\u001b[0m_print_status\u001b[0m\u001b[0;34m(\u001b[0m\u001b[0;34m)\u001b[0m\u001b[0;34m\u001b[0m\u001b[0;34m\u001b[0m\u001b[0m\n\u001b[0m\u001b[1;32m    368\u001b[0m \u001b[0;34m\u001b[0m\u001b[0m\n\u001b[1;32m    369\u001b[0m     \u001b[0;32mdef\u001b[0m \u001b[0m_initialize_time\u001b[0m\u001b[0;34m(\u001b[0m\u001b[0mself\u001b[0m\u001b[0;34m)\u001b[0m\u001b[0;34m:\u001b[0m\u001b[0;34m\u001b[0m\u001b[0;34m\u001b[0m\u001b[0m\n",
      "\u001b[0;32m/mnt/local/python3.6/lib/python3.6/site-packages/pyqg-0.3.0+2.g38f13fd-py3.6-linux-x86_64.egg/pyqg/model.py\u001b[0m in \u001b[0;36m_print_status\u001b[0;34m(self)\u001b[0m\n\u001b[1;32m    499\u001b[0m                     , self.tc,self.t,self.ke,self.cfl )\n\u001b[1;32m    500\u001b[0m \u001b[0;34m\u001b[0m\u001b[0m\n\u001b[0;32m--> 501\u001b[0;31m             \u001b[0;32massert\u001b[0m \u001b[0mself\u001b[0m\u001b[0;34m.\u001b[0m\u001b[0mcfl\u001b[0m\u001b[0;34m<\u001b[0m\u001b[0;36m1.\u001b[0m\u001b[0;34m,\u001b[0m \u001b[0mself\u001b[0m\u001b[0;34m.\u001b[0m\u001b[0mlogger\u001b[0m\u001b[0;34m.\u001b[0m\u001b[0merror\u001b[0m\u001b[0;34m(\u001b[0m\u001b[0;34m'CFL condition violated'\u001b[0m\u001b[0;34m)\u001b[0m\u001b[0;34m\u001b[0m\u001b[0;34m\u001b[0m\u001b[0m\n\u001b[0m\u001b[1;32m    502\u001b[0m \u001b[0;34m\u001b[0m\u001b[0m\n\u001b[1;32m    503\u001b[0m \u001b[0;34m\u001b[0m\u001b[0m\n",
      "\u001b[0;31mAssertionError\u001b[0m: None"
     ]
    }
   ],
   "source": [
    "#now, we run the model \n",
    "m.run()"
   ]
  },
  {
   "cell_type": "code",
   "execution_count": null,
   "metadata": {},
   "outputs": [],
   "source": [
    "#now this visualizes the results\n",
    "plt.figure(figsize=(18,4))\n",
    "\n",
    "plt.subplot(131)\n",
    "plt.pcolormesh(m.x/m.rd,m.y/m.rd,(m.q[0,]+m.Qy[0]*m.y)/(U1/Ld),cmap='Spectral_r')\n",
    "plt.xlabel(r'$x/L_d$')\n",
    "plt.ylabel(r'$y/L_d$')\n",
    "plt.colorbar()\n",
    "plt.title('Layer 1 PV')\n",
    "\n",
    "plt.subplot(132)\n",
    "plt.pcolormesh(m.x/m.rd,m.y/m.rd,(m.q[1,]+m.Qy[1]*m.y)/(U1/Ld),cmap='Spectral_r')\n",
    "plt.xlabel(r'$x/L_d$')\n",
    "plt.ylabel(r'$y/L_d$')\n",
    "plt.colorbar()\n",
    "plt.title('Layer 2 PV')\n",
    "\n",
    "plt.subplot(133)\n",
    "plt.pcolormesh(m.x/m.rd,m.y/m.rd,(m.q[2,]+m.Qy[2]*m.y)/(U1/Ld),cmap='Spectral_r')\n",
    "plt.xlabel(r'$x/L_d$')\n",
    "plt.ylabel(r'$y/L_d$')\n",
    "plt.colorbar()\n",
    "plt.title('Layer 3 PV')"
   ]
  },
  {
   "cell_type": "code",
   "execution_count": null,
   "metadata": {},
   "outputs": [],
   "source": [
    "kr, kespec_1 = tools.calc_ispec(m,m.get_diagnostic('KEspec')[0])\n",
    "_, kespec_2 = tools.calc_ispec(m,m.get_diagnostic('KEspec')[1])\n",
    "_, kespec_3 = tools.calc_ispec(m,m.get_diagnostic('KEspec')[2])\n",
    "\n",
    "plt.loglog( kr, kespec_1, '.-' )\n",
    "plt.loglog( kr, kespec_2, '.-' )\n",
    "plt.loglog( kr, kespec_3, '.-' )\n",
    "\n",
    "plt.legend(['layer 1','layer 2', 'layer 3'], loc='lower left')\n",
    "plt.ylim([1e-14,1e-6]); plt.xlim([m.kk.min(), m.kk.max()])\n",
    "plt.xlabel(r'k (m$^{-1}$)'); plt.grid()\n",
    "plt.title('Scenario 2 Kinetic Energy Spectrum');"
   ]
  },
  {
   "cell_type": "code",
   "execution_count": null,
   "metadata": {},
   "outputs": [],
   "source": []
  }
 ],
 "metadata": {
  "kernelspec": {
   "display_name": "Python 3.6",
   "language": "python",
   "name": "python3.6"
  },
  "language_info": {
   "codemirror_mode": {
    "name": "ipython",
    "version": 3
   },
   "file_extension": ".py",
   "mimetype": "text/x-python",
   "name": "python",
   "nbconvert_exporter": "python",
   "pygments_lexer": "ipython3",
   "version": "3.6.9"
  }
 },
 "nbformat": 4,
 "nbformat_minor": 4
}
