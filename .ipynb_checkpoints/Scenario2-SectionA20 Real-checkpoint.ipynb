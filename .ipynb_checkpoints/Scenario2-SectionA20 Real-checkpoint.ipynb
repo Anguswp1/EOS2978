{
 "cells": [
  {
   "cell_type": "code",
   "execution_count": 1,
   "metadata": {},
   "outputs": [],
   "source": [
    "#this notebook runs the PYQG layered model based on the A20 section from 2011\n",
    "# http://whp-atlas.ucsd.edu/atlantic/a20/sections/printatlas/printatlas.htm\n"
   ]
  },
  {
   "cell_type": "code",
   "execution_count": 2,
   "metadata": {},
   "outputs": [],
   "source": [
    "import numpy as np\n",
    "from matplotlib import pyplot as plt\n",
    "%matplotlib inline\n",
    "import pyqg"
   ]
  },
  {
   "cell_type": "code",
   "execution_count": 3,
   "metadata": {},
   "outputs": [],
   "source": [
    "#now to try to run the three layer model(proper PYQG)\n",
    "from pyqg import diagnostic_tools as tools\n",
    "#this sets up the layers\n",
    "L =  1000.e3     # length scale of box    [m]\n",
    "Ld = 15.e3       # deformation scale      [m]\n",
    "kd = 1./Ld       # deformation wavenumber [m^-1]\n",
    "Nx = 64         # number of grid points\n",
    "\n",
    "H1 = 200.        # layer 1 thickness  [m]\n",
    "H2 = 1300.       # layer 2\n",
    "H3 = 3500.       # layer 3\n",
    "\n",
    "U1 = 0.05          # layer 1 zonal velocity [m/s]\n",
    "U2 = 0.025         # layer 2\n",
    "U3 = 0.00          # layer 3\n",
    "\n",
    "rho1 = 1025.\n",
    "rho2 = 1027.5\n",
    "rho3 = 1028.\n",
    "\n",
    "rek = 1.e-7       # linear bottom drag coeff.  [s^-1]\n",
    "f0  = 0.0001236812857687059 # coriolis param [s^-1]\n",
    "beta = 1.2130692965249345e-11 # planetary vorticity gradient [m^-1 s^-1]\n",
    "\n",
    "Ti = Ld/(abs(U1))  # estimate of most unstable e-folding time scale [s]\n",
    "dt = Ti/200.   # time-step [s]\n",
    "tmax = 300*Ti      # simulation time [s]\n"
   ]
  },
  {
   "cell_type": "code",
   "execution_count": 4,
   "metadata": {},
   "outputs": [
    {
     "name": "stderr",
     "output_type": "stream",
     "text": [
      "INFO:  Logger initialized\n"
     ]
    }
   ],
   "source": [
    "#this defines the model from all of the set-up parameters above\n",
    "m = pyqg.LayeredModel(nx=Nx, nz=3, U = [U1,U2,U3],V = [0.,0.,0.],L=L,f=f0,beta=beta,\n",
    "                         H = [H1,H2,H3], rho=[rho1,rho2,rho3],rek=rek,\n",
    "                        dt=dt,tmax=tmax, twrite=5000, tavestart=Ti*10)"
   ]
  },
  {
   "cell_type": "code",
   "execution_count": 5,
   "metadata": {},
   "outputs": [],
   "source": [
    "#this sets up the initial conditions for the model\n",
    "#in the original code, delta is not specified \n",
    "#delta = 0.5\n",
    "sig = 1.e-7\n",
    "qi = sig*np.vstack([np.random.randn(m.nx,m.ny)[np.newaxis,],\n",
    "                    np.random.randn(m.nx,m.ny)[np.newaxis,],\n",
    "                    np.random.randn(m.nx,m.ny)[np.newaxis,]])\n",
    "m.set_q(qi)"
   ]
  },
  {
   "cell_type": "code",
   "execution_count": 6,
   "metadata": {},
   "outputs": [
    {
     "name": "stderr",
     "output_type": "stream",
     "text": [
      "INFO: Step: 5000, Time: 7.50e+06, KE: 4.88e-07, CFL: 0.005\n",
      "INFO: Step: 10000, Time: 1.50e+07, KE: 2.29e-06, CFL: 0.005\n",
      "INFO: Step: 15000, Time: 2.25e+07, KE: 2.18e-05, CFL: 0.006\n",
      "INFO: Step: 20000, Time: 3.00e+07, KE: 2.16e-04, CFL: 0.010\n",
      "INFO: Step: 25000, Time: 3.75e+07, KE: 1.29e-03, CFL: 0.026\n",
      "INFO: Step: 30000, Time: 4.50e+07, KE: 1.72e-03, CFL: 0.032\n",
      "INFO: Step: 35000, Time: 5.25e+07, KE: 2.18e-03, CFL: 0.033\n",
      "INFO: Step: 40000, Time: 6.00e+07, KE: 2.45e-03, CFL: 0.036\n",
      "INFO: Step: 45000, Time: 6.75e+07, KE: 3.11e-03, CFL: 0.039\n",
      "INFO: Step: 50000, Time: 7.50e+07, KE: 3.00e-03, CFL: 0.036\n",
      "INFO: Step: 55000, Time: 8.25e+07, KE: 2.82e-03, CFL: 0.038\n",
      "INFO: Step: 60000, Time: 9.00e+07, KE: 2.57e-03, CFL: 0.035\n"
     ]
    }
   ],
   "source": [
    "#now, we run the model \n",
    "m.run()"
   ]
  },
  {
   "cell_type": "code",
   "execution_count": null,
   "metadata": {},
   "outputs": [],
   "source": [
    "#now this visualizes the results\n",
    "print(\"Scenario 1: Status Quo\")\n",
    "plt.figure(figsize=(18,4))\n",
    "\n",
    "plt.subplot(131)\n",
    "plt.pcolormesh(m.x/m.rd,m.y/m.rd,(m.q[0,]+m.Qy[0]*m.y)/(U1/Ld),cmap='Spectral_r')\n",
    "plt.xlabel(r'$x/L_d$')\n",
    "plt.ylabel(r'$y/L_d$')\n",
    "plt.colorbar()\n",
    "plt.title('Layer 1 PV')\n",
    "\n",
    "plt.subplot(132)\n",
    "plt.pcolormesh(m.x/m.rd,m.y/m.rd,(m.q[1,]+m.Qy[1]*m.y)/(U1/Ld),cmap='Spectral_r')\n",
    "plt.xlabel(r'$x/L_d$')\n",
    "plt.ylabel(r'$y/L_d$')\n",
    "plt.colorbar()\n",
    "plt.title('Layer 2 PV')\n",
    "\n",
    "plt.subplot(133)\n",
    "plt.pcolormesh(m.x/m.rd,m.y/m.rd,(m.q[2,]+m.Qy[2]*m.y)/(U1/Ld),cmap='Spectral_r')\n",
    "plt.xlabel(r'$x/L_d$')\n",
    "plt.ylabel(r'$y/L_d$')\n",
    "plt.colorbar()\n",
    "plt.title('Layer 3 PV')"
   ]
  },
  {
   "cell_type": "code",
   "execution_count": 8,
   "metadata": {},
   "outputs": [
    {
     "name": "stderr",
     "output_type": "stream",
     "text": [
      "/mnt/local/python3.6/lib/python3.6/site-packages/ipykernel_launcher.py:13: UserWarning: Attempted to set non-positive left xlim on a log-scaled axis.\n",
      "Invalid limit will be ignored.\n",
      "  del sys.path[0]\n"
     ]
    },
    {
     "data": {
      "image/png": "[encoded data removed]",
      "text/plain": [
       "<Figure size 432x288 with 1 Axes>"
      ]
     },
     "metadata": {
      "needs_background": "light"
     },
     "output_type": "display_data"
    }
   ],
   "source": [
    "kr, kespec_1 = tools.calc_ispec(m,m.get_diagnostic('KEspec')[0])\n",
    "_, kespec_2 = tools.calc_ispec(m,m.get_diagnostic('KEspec')[1])\n",
    "_, kespec_3 = tools.calc_ispec(m,m.get_diagnostic('KEspec')[2])\n",
    "\n",
    "plt.loglog( kr, kespec_1, '.-' )\n",
    "plt.loglog( kr, kespec_2, '.-' )\n",
    "plt.loglog( kr, kespec_3, '.-' )\n",
    "y = 1e-16 * kr**(-5/3) \n",
    "plt.loglog( kr, y, '--k',label =\"k^-5/3\")\n",
    "#the two lines above are meant to add a line: y = k^(-5/3) + 10^(-8)\n",
    "\n",
    "plt.legend(['layer 1','layer 2', 'layer 3','K^-5/3'], loc='lower left')\n",
    "plt.ylim([1e-14,1e-6]); plt.xlim([m.kk.min(), m.kk.max()])\n",
    "plt.xlabel(r'k (m$^{-1}$)'); plt.grid()\n",
    "plt.title('Scenario 1 Kinetic Energy Spectrum');\n",
    "\n",
    "#the lines below will try to add a shaded section indicating where the rossby radius of deformation is\n",
    "#to do this, we need to change the radii to wavenumbers \n",
    "radiiwavenumbers = 1/(m.radii)\n",
    "a = radiiwavenumbers[2]\n",
    "b = radiiwavenumbers[1]\n",
    "plt.axvspan(a, b, color='y', alpha=0.5, lw=0)\n",
    "plt.savefig('shade.png', dpi=300)\n",
    "plt.show()"
   ]
  },
  {
   "cell_type": "code",
   "execution_count": 14,
   "metadata": {},
   "outputs": [
    {
     "name": "stdout",
     "output_type": "stream",
     "text": [
      "Phase speed is 2.4259625468675217 m/s??\n",
      "Using equation 2.3A \n",
      "Rossby Radius of Deformation is  33268.36640840803 meters while it is 52419.207919941065 meters when using CR Equation 16.52\n"
     ]
    }
   ],
   "source": [
    "#revised method for calculating rossby radius of deformation, based on Cushman-Roisin Equation 16.52\n",
    "g = m.g\n",
    "pi = np.pi\n",
    "po = 1026 #this is mean density\n",
    "H = H1+H2+H3\n",
    "density_gradient = ((rho1 - rho3) / (H))\n",
    "N = np.sqrt((- g / 1026) * density_gradient) \n",
    "H = H1+H2+H3\n",
    "#the code below establishes f the coriolis parameter\n",
    "latitude = 30\n",
    "lat_radians = latitude * (pi/180)\n",
    "omega = (2*pi)/86400 #earth's rotational velocity in rad/s, should I use radians per second or degrees?\n",
    "f = 2 * omega * np.sin(lat_radians)\n",
    "#cushman-roisin equation 16.52\n",
    "rossby_radius = (N * H)/(pi*f)\n",
    "\n",
    "\n",
    "#now to calculate phase speed from Chelton et al 1998 equation 2.2 \n",
    "boundary1gradient = np.sqrt((rho2-rho1)/(H1/2 + H2/2))\n",
    "boundary2gradient = np.sqrt((rho3-rho2)/(H2/2 + H3/2))\n",
    "integration = (boundary1gradient*((.5*H1) + (.5 * H2)) + boundary2gradient*((.5*H2)+(.5*H3)))\n",
    "c= (np.sqrt(g))/(pi * np.sqrt(po)) * integration\n",
    "print(\"Phase speed is\", c, \"m/s??\")\n",
    "\n",
    "\n",
    "# now that we have supposedly calculated phase speed above, we can use that to try to calculate rossby radii of \n",
    "#deformation \n",
    "\n",
    "#for now, going to assume that the bathtub ocean we are using is near the equator so are using equation 2.3b \n",
    "#from chelton et al 1998, but am unsure what latitude to use(will assume 3 degrees north for now)\n",
    "latitude = 30\n",
    "\n",
    "omega = 7.2921e-5   #earth's rotational velocity in rad/s, should I use radians per second or degrees?\n",
    "Re = 6.3781e6 # this is in meters right now, but maybe it should be in kilometers?\n",
    "B = 2 * omega * (1 / Re) * np.cos(lat_radians)   #this equation is for beta, in the denominator of equation 2.3b\n",
    "#print(B)\n",
    "f = 2 * omega * np.sin(lat_radians)\n",
    "\n",
    "\n",
    "if latitude >= np.abs(5):\n",
    "    \n",
    "    #EQUATION2.3A below\n",
    "    f = 2 * omega * np.sin(lat_radians)\n",
    "    rrd = c /(np.abs(f))\n",
    "    print(\"Using equation 2.3A \")\n",
    "else:\n",
    "    #EQUATION 2.3b below\n",
    "    rrd = np.sqrt(c/(2 * B)) #this calculates the rossby radius using equation 2.3b for latitudes near the equator\n",
    "    print(\"Using equation 2.3B\")\n",
    "print(\"Rossby Radius of Deformation is \", rrd, \"meters\", \"while it is\", rossby_radius, \"meters when using CR Equation 16.52\")"
   ]
  },
  {
   "cell_type": "code",
   "execution_count": null,
   "metadata": {},
   "outputs": [],
   "source": []
  }
 ],
 "metadata": {
  "kernelspec": {
   "display_name": "Python 3.6",
   "language": "python",
   "name": "python3.6"
  },
  "language_info": {
   "codemirror_mode": {
    "name": "ipython",
    "version": 3
   },
   "file_extension": ".py",
   "mimetype": "text/x-python",
   "name": "python",
   "nbconvert_exporter": "python",
   "pygments_lexer": "ipython3",
   "version": "3.6.9"
  }
 },
 "nbformat": 4,
 "nbformat_minor": 4
}
