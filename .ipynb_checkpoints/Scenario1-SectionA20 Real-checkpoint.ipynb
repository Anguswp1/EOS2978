{
 "cells": [
  {
   "cell_type": "code",
   "execution_count": 1,
   "metadata": {},
   "outputs": [],
   "source": [
    "#this notebook runs the PYQG layered model based on the A20 section from 2011\n",
    "# http://whp-atlas.ucsd.edu/atlantic/a20/sections/printatlas/printatlas.htm\n"
   ]
  },
  {
   "cell_type": "code",
   "execution_count": 2,
   "metadata": {},
   "outputs": [],
   "source": [
    "import numpy as np\n",
    "from matplotlib import pyplot as plt\n",
    "%matplotlib inline\n",
    "import pyqg"
   ]
  },
  {
   "cell_type": "code",
   "execution_count": 3,
   "metadata": {},
   "outputs": [],
   "source": [
    "#now to try to run the three layer model(proper PYQG)\n",
    "from pyqg import diagnostic_tools as tools\n",
    "#this sets up the layers\n",
    "L =  1000.e3     # length scale of box    [m]\n",
    "Ld = 15.e3       # deformation scale      [m]\n",
    "kd = 1./Ld       # deformation wavenumber [m^-1]\n",
    "Nx = 512         # number of grid points\n",
    "\n",
    "H1 = 200.        # layer 1 thickness  [m]\n",
    "H2 = 1300.       # layer 2\n",
    "H3 = 3500.       # layer 3\n",
    "\n",
    "U1 = 0.05          # layer 1 zonal velocity [m/s]\n",
    "U2 = 0.025         # layer 2\n",
    "U3 = 0.00          # layer 3\n",
    "\n",
    "rho1 = 1025.\n",
    "rho2 = 1027.5\n",
    "rho3 = 1028.\n",
    "\n",
    "rek = 1.e-7       # linear bottom drag coeff.  [s^-1]\n",
    "f0  = 0.0001236812857687059 # coriolis param [s^-1]\n",
    "beta = 1.2130692965249345e-11 # planetary vorticity gradient [m^-1 s^-1]\n",
    "\n",
    "Ti = Ld/(abs(U1))  # estimate of most unstable e-folding time scale [s]\n",
    "dt = Ti/1600.   # time-step [s]\n",
    "tmax = 300*Ti      # simulation time [s]\n"
   ]
  },
  {
   "cell_type": "code",
   "execution_count": 4,
   "metadata": {},
   "outputs": [
    {
     "name": "stderr",
     "output_type": "stream",
     "text": [
      "INFO:  Logger initialized\n"
     ]
    }
   ],
   "source": [
    "#this defines the model from all of the set-up parameters above\n",
    "m = pyqg.LayeredModel(nx=Nx, nz=3, U = [U1,U2,U3],V = [0.,0.,0.],L=L,f=f0,beta=beta,\n",
    "                         H = [H1,H2,H3], rho=[rho1,rho2,rho3],rek=rek,\n",
    "                        dt=dt,tmax=tmax, twrite=5000, tavestart=Ti*10)"
   ]
  },
  {
   "cell_type": "code",
   "execution_count": 5,
   "metadata": {},
   "outputs": [],
   "source": [
    "#this sets up the initial conditions for the model\n",
    "#in the original code, delta is not specified \n",
    "#delta = 0.5\n",
    "sig = 1.e-7\n",
    "qi = sig*np.vstack([np.random.randn(m.nx,m.ny)[np.newaxis,],\n",
    "                    np.random.randn(m.nx,m.ny)[np.newaxis,],\n",
    "                    np.random.randn(m.nx,m.ny)[np.newaxis,]])\n",
    "m.set_q(qi)"
   ]
  },
  {
   "cell_type": "code",
   "execution_count": null,
   "metadata": {},
   "outputs": [
    {
     "name": "stderr",
     "output_type": "stream",
     "text": [
      "INFO: Step: 5000, Time: 9.38e+05, KE: 1.09e-08, CFL: 0.005\n",
      "INFO: Step: 10000, Time: 1.88e+06, KE: 1.00e-08, CFL: 0.005\n",
      "INFO: Step: 15000, Time: 2.81e+06, KE: 9.44e-09, CFL: 0.005\n",
      "INFO: Step: 20000, Time: 3.75e+06, KE: 9.08e-09, CFL: 0.005\n",
      "INFO: Step: 25000, Time: 4.69e+06, KE: 8.87e-09, CFL: 0.005\n",
      "INFO: Step: 30000, Time: 5.62e+06, KE: 8.83e-09, CFL: 0.005\n",
      "INFO: Step: 35000, Time: 6.56e+06, KE: 8.96e-09, CFL: 0.005\n",
      "INFO: Step: 40000, Time: 7.50e+06, KE: 9.31e-09, CFL: 0.005\n",
      "INFO: Step: 45000, Time: 8.44e+06, KE: 9.93e-09, CFL: 0.005\n",
      "INFO: Step: 50000, Time: 9.38e+06, KE: 1.09e-08, CFL: 0.005\n",
      "INFO: Step: 55000, Time: 1.03e+07, KE: 1.22e-08, CFL: 0.005\n",
      "INFO: Step: 60000, Time: 1.12e+07, KE: 1.41e-08, CFL: 0.005\n",
      "INFO: Step: 65000, Time: 1.22e+07, KE: 1.65e-08, CFL: 0.005\n",
      "INFO: Step: 70000, Time: 1.31e+07, KE: 1.98e-08, CFL: 0.005\n",
      "INFO: Step: 75000, Time: 1.41e+07, KE: 2.41e-08, CFL: 0.005\n",
      "INFO: Step: 80000, Time: 1.50e+07, KE: 2.97e-08, CFL: 0.005\n",
      "INFO: Step: 85000, Time: 1.59e+07, KE: 3.71e-08, CFL: 0.005\n",
      "INFO: Step: 90000, Time: 1.69e+07, KE: 4.70e-08, CFL: 0.005\n",
      "INFO: Step: 95000, Time: 1.78e+07, KE: 6.02e-08, CFL: 0.005\n",
      "INFO: Step: 100000, Time: 1.88e+07, KE: 7.77e-08, CFL: 0.005\n",
      "INFO: Step: 105000, Time: 1.97e+07, KE: 1.01e-07, CFL: 0.005\n",
      "INFO: Step: 110000, Time: 2.06e+07, KE: 1.32e-07, CFL: 0.005\n",
      "INFO: Step: 115000, Time: 2.16e+07, KE: 1.72e-07, CFL: 0.005\n",
      "INFO: Step: 120000, Time: 2.25e+07, KE: 2.26e-07, CFL: 0.005\n",
      "INFO: Step: 125000, Time: 2.34e+07, KE: 2.99e-07, CFL: 0.005\n",
      "INFO: Step: 130000, Time: 2.44e+07, KE: 3.95e-07, CFL: 0.005\n",
      "INFO: Step: 135000, Time: 2.53e+07, KE: 5.24e-07, CFL: 0.005\n",
      "INFO: Step: 140000, Time: 2.62e+07, KE: 6.98e-07, CFL: 0.005\n",
      "INFO: Step: 145000, Time: 2.72e+07, KE: 9.30e-07, CFL: 0.005\n",
      "INFO: Step: 150000, Time: 2.81e+07, KE: 1.24e-06, CFL: 0.005\n",
      "INFO: Step: 155000, Time: 2.91e+07, KE: 1.66e-06, CFL: 0.005\n",
      "INFO: Step: 160000, Time: 3.00e+07, KE: 2.22e-06, CFL: 0.005\n",
      "INFO: Step: 165000, Time: 3.09e+07, KE: 2.98e-06, CFL: 0.005\n",
      "INFO: Step: 170000, Time: 3.19e+07, KE: 3.99e-06, CFL: 0.005\n",
      "INFO: Step: 175000, Time: 3.28e+07, KE: 5.36e-06, CFL: 0.005\n",
      "INFO: Step: 180000, Time: 3.38e+07, KE: 7.21e-06, CFL: 0.006\n",
      "INFO: Step: 185000, Time: 3.47e+07, KE: 9.70e-06, CFL: 0.006\n",
      "INFO: Step: 190000, Time: 3.56e+07, KE: 1.31e-05, CFL: 0.006\n",
      "INFO: Step: 195000, Time: 3.66e+07, KE: 1.76e-05, CFL: 0.006\n",
      "INFO: Step: 200000, Time: 3.75e+07, KE: 2.37e-05, CFL: 0.006\n",
      "INFO: Step: 205000, Time: 3.84e+07, KE: 3.18e-05, CFL: 0.006\n",
      "INFO: Step: 210000, Time: 3.94e+07, KE: 4.28e-05, CFL: 0.007\n",
      "INFO: Step: 215000, Time: 4.03e+07, KE: 5.75e-05, CFL: 0.007\n",
      "INFO: Step: 220000, Time: 4.12e+07, KE: 7.71e-05, CFL: 0.008\n",
      "INFO: Step: 225000, Time: 4.22e+07, KE: 1.03e-04, CFL: 0.008\n",
      "INFO: Step: 230000, Time: 4.31e+07, KE: 1.38e-04, CFL: 0.009\n",
      "INFO: Step: 235000, Time: 4.41e+07, KE: 1.83e-04, CFL: 0.009\n",
      "INFO: Step: 240000, Time: 4.50e+07, KE: 2.43e-04, CFL: 0.010\n",
      "INFO: Step: 245000, Time: 4.59e+07, KE: 3.20e-04, CFL: 0.011\n",
      "INFO: Step: 250000, Time: 4.69e+07, KE: 4.20e-04, CFL: 0.013\n",
      "INFO: Step: 255000, Time: 4.78e+07, KE: 5.44e-04, CFL: 0.015\n"
     ]
    }
   ],
   "source": [
    "#now, we run the model \n",
    "m.run()"
   ]
  },
  {
   "cell_type": "code",
   "execution_count": null,
   "metadata": {},
   "outputs": [],
   "source": [
    "#now this visualizes the results\n",
    "plt.figure(figsize=(18,4))\n",
    "\n",
    "plt.subplot(131)\n",
    "plt.pcolormesh(m.x/m.rd,m.y/m.rd,(m.q[0,]+m.Qy[0]*m.y)/(U1/Ld),cmap='Spectral_r')\n",
    "plt.xlabel(r'$x/L_d$')\n",
    "plt.ylabel(r'$y/L_d$')\n",
    "plt.colorbar()\n",
    "plt.title('Layer 1 PV')\n",
    "\n",
    "plt.subplot(132)\n",
    "plt.pcolormesh(m.x/m.rd,m.y/m.rd,(m.q[1,]+m.Qy[1]*m.y)/(U1/Ld),cmap='Spectral_r')\n",
    "plt.xlabel(r'$x/L_d$')\n",
    "plt.ylabel(r'$y/L_d$')\n",
    "plt.colorbar()\n",
    "plt.title('Layer 2 PV')\n",
    "\n",
    "plt.subplot(133)\n",
    "plt.pcolormesh(m.x/m.rd,m.y/m.rd,(m.q[2,]+m.Qy[2]*m.y)/(U1/Ld),cmap='Spectral_r')\n",
    "plt.xlabel(r'$x/L_d$')\n",
    "plt.ylabel(r'$y/L_d$')\n",
    "plt.colorbar()\n",
    "plt.title('Layer 3 PV')"
   ]
  },
  {
   "cell_type": "code",
   "execution_count": null,
   "metadata": {},
   "outputs": [],
   "source": [
    "kr, kespec_1 = tools.calc_ispec(m,m.get_diagnostic('KEspec')[0])\n",
    "_, kespec_2 = tools.calc_ispec(m,m.get_diagnostic('KEspec')[1])\n",
    "_, kespec_3 = tools.calc_ispec(m,m.get_diagnostic('KEspec')[2])\n",
    "\n",
    "plt.loglog( kr, kespec_1, '.-' )\n",
    "plt.loglog( kr, kespec_2, '.-' )\n",
    "plt.loglog( kr, kespec_3, '.-' )\n",
    "\n",
    "plt.legend(['layer 1','layer 2', 'layer 3'], loc='lower left')\n",
    "plt.ylim([1e-14,1e-6]); plt.xlim([m.kk.min(), m.kk.max()])\n",
    "plt.xlabel(r'k (m$^{-1}$)'); plt.grid()\n",
    "plt.title('Scenario 1 Kinetic Energy Spectrum');"
   ]
  },
  {
   "cell_type": "code",
   "execution_count": null,
   "metadata": {},
   "outputs": [],
   "source": []
  }
 ],
 "metadata": {
  "kernelspec": {
   "display_name": "Python 3.6",
   "language": "python",
   "name": "python3.6"
  },
  "language_info": {
   "codemirror_mode": {
    "name": "ipython",
    "version": 3
   },
   "file_extension": ".py",
   "mimetype": "text/x-python",
   "name": "python",
   "nbconvert_exporter": "python",
   "pygments_lexer": "ipython3",
   "version": "3.6.9"
  }
 },
 "nbformat": 4,
 "nbformat_minor": 4
}
