{
 "cells": [
  {
   "cell_type": "code",
   "execution_count": 1,
   "metadata": {},
   "outputs": [],
   "source": [
    "import numpy as np\n",
    "from matplotlib import pyplot as plt\n",
    "%matplotlib inline\n",
    "import pyqg"
   ]
  },
  {
   "cell_type": "code",
   "execution_count": 2,
   "metadata": {},
   "outputs": [],
   "source": [
    "#now to try to run the three layer model(proper PYQG)\n",
    "from pyqg import diagnostic_tools as tools\n",
    "#this sets up the layers\n",
    "L =  1000.e3     # length scale of box    [m]\n",
    "Ld = 15.e3       # deformation scale      [m]\n",
    "kd = 1./Ld       # deformation wavenumber [m^-1]\n",
    "Nx = 128          # number of grid points\n",
    "\n",
    "H1 = 100.        # layer 1 thickness  [m]\n",
    "H2 = 1400.       # layer 2\n",
    "H3 = 3500.       # layer 3\n",
    "\n",
    "U1 = 0.05          # layer 1 zonal velocity [m/s]\n",
    "U2 = 0.025         # layer 2\n",
    "U3 = 0.00          # layer 3\n",
    "\n",
    "rho1 = 1024.5\n",
    "rho2 = 1027.25\n",
    "rho3 = 1027.8\n",
    "\n",
    "rek = 1.e-7       # linear bottom drag coeff.  [s^-1]\n",
    "f0  = 0.0001236812857687059 # coriolis param [s^-1]\n",
    "beta = 1.2130692965249345e-11 # planetary vorticity gradient [m^-1 s^-1]\n",
    "\n",
    "Ti = Ld/(abs(U1))  # estimate of most unstable e-folding time scale [s]\n",
    "dt = Ti/400.   # time-step [s]\n",
    "tmax = 300*Ti      # simulation time [s]\n"
   ]
  },
  {
   "cell_type": "code",
   "execution_count": 3,
   "metadata": {},
   "outputs": [
    {
     "name": "stderr",
     "output_type": "stream",
     "text": [
      "INFO:  Logger initialized\n"
     ]
    }
   ],
   "source": [
    "#this defines the model from all of the set-up parameters above\n",
    "m = pyqg.LayeredModel(nx=Nx, nz=3, U = [U1,U2,U3],V = [0.,0.,0.],L=L,f=f0,beta=beta,\n",
    "                         H = [H1,H2,H3], rho=[rho1,rho2,rho3],rek=rek,\n",
    "                        dt=dt,tmax=tmax, twrite=5000, tavestart=Ti*10)"
   ]
  },
  {
   "cell_type": "code",
   "execution_count": 4,
   "metadata": {},
   "outputs": [],
   "source": [
    "#this sets up the initial conditions for the model\n",
    "#in the original code, delta is not specified \n",
    "#delta = 0.5\n",
    "sig = 1.e-7\n",
    "qi = sig*np.vstack([np.random.randn(m.nx,m.ny)[np.newaxis,],\n",
    "                    np.random.randn(m.nx,m.ny)[np.newaxis,],\n",
    "                    np.random.randn(m.nx,m.ny)[np.newaxis,]])\n",
    "m.set_q(qi)"
   ]
  },
  {
   "cell_type": "code",
   "execution_count": null,
   "metadata": {},
   "outputs": [
    {
     "name": "stderr",
     "output_type": "stream",
     "text": [
      "INFO: Step: 5000, Time: 3.75e+06, KE: 1.06e-07, CFL: 0.005\n",
      "INFO: Step: 10000, Time: 7.50e+06, KE: 1.16e-07, CFL: 0.005\n",
      "INFO: Step: 15000, Time: 1.12e+07, KE: 1.72e-07, CFL: 0.005\n",
      "INFO: Step: 20000, Time: 1.50e+07, KE: 3.18e-07, CFL: 0.005\n",
      "INFO: Step: 25000, Time: 1.88e+07, KE: 6.93e-07, CFL: 0.005\n",
      "INFO: Step: 30000, Time: 2.25e+07, KE: 1.66e-06, CFL: 0.005\n",
      "INFO: Step: 35000, Time: 2.62e+07, KE: 4.16e-06, CFL: 0.006\n",
      "INFO: Step: 40000, Time: 3.00e+07, KE: 1.08e-05, CFL: 0.006\n"
     ]
    }
   ],
   "source": [
    "#now, we run the model \n",
    "m.run()"
   ]
  },
  {
   "cell_type": "code",
   "execution_count": null,
   "metadata": {},
   "outputs": [],
   "source": [
    "#now this visualizes the results\n",
    "plt.figure(figsize=(18,4))\n",
    "\n",
    "plt.subplot(131)\n",
    "plt.pcolormesh(m.x/m.rd,m.y/m.rd,(m.q[0,]+m.Qy[0]*m.y)/(U1/Ld),cmap='Spectral_r')\n",
    "plt.xlabel(r'$x/L_d$')\n",
    "plt.ylabel(r'$y/L_d$')\n",
    "plt.colorbar()\n",
    "plt.title('Layer 1 PV')\n",
    "\n",
    "plt.subplot(132)\n",
    "plt.pcolormesh(m.x/m.rd,m.y/m.rd,(m.q[1,]+m.Qy[1]*m.y)/(U1/Ld),cmap='Spectral_r')\n",
    "plt.xlabel(r'$x/L_d$')\n",
    "plt.ylabel(r'$y/L_d$')\n",
    "plt.colorbar()\n",
    "plt.title('Layer 2 PV')\n",
    "\n",
    "plt.subplot(133)\n",
    "plt.pcolormesh(m.x/m.rd,m.y/m.rd,(m.q[2,]+m.Qy[2]*m.y)/(U1/Ld),cmap='Spectral_r')\n",
    "plt.xlabel(r'$x/L_d$')\n",
    "plt.ylabel(r'$y/L_d$')\n",
    "plt.colorbar()\n",
    "plt.title('Layer 3 PV')"
   ]
  },
  {
   "cell_type": "code",
   "execution_count": null,
   "metadata": {},
   "outputs": [],
   "source": [
    "kr, kespec_1 = tools.calc_ispec(m,m.get_diagnostic('KEspec')[0])\n",
    "_, kespec_2 = tools.calc_ispec(m,m.get_diagnostic('KEspec')[1])\n",
    "_, kespec_3 = tools.calc_ispec(m,m.get_diagnostic('KEspec')[2])\n",
    "\n",
    "plt.loglog( kr, kespec_1, '.-' )\n",
    "plt.loglog( kr, kespec_2, '.-' )\n",
    "plt.loglog( kr, kespec_3, '.-' )\n",
    "y = 1e-16 * kr**(-5/3) \n",
    "plt.loglog( kr, y, '--k',label =\"k^-5/3\")\n",
    "#the two lines above are meant to add a line: y = k^(-5/3) + 10^(-8)\n",
    "\n",
    "plt.legend(['layer 1','layer 2', 'layer 3','K^-5/3'], loc='lower left')\n",
    "plt.ylim([1e-14,1e-6]); plt.xlim([m.kk.min(), m.kk.max()])\n",
    "plt.xlabel(r'k (m$^{-1}$)'); plt.grid()\n",
    "plt.title('Scenario 4 Kinetic Energy Spectrum');\n",
    "\n",
    "#the lines below will try to add a shaded section indicating where the rossby radius of deformation is\n",
    "#to do this, we need to change the radii to wavenumbers \n",
    "radiiwavenumbers = 1/(m.radii)\n",
    "a = radiiwavenumbers[2]\n",
    "b = radiiwavenumbers[1]\n",
    "plt.axvspan(a, b, color='y', alpha=0.5, lw=0)\n",
    "plt.savefig('shade.png', dpi=300)\n",
    "plt.show()"
   ]
  },
  {
   "cell_type": "code",
   "execution_count": null,
   "metadata": {},
   "outputs": [],
   "source": [
    "m.radii \n",
    "#plt.plot(m.x,m.radii"
   ]
  },
  {
   "cell_type": "code",
   "execution_count": null,
   "metadata": {},
   "outputs": [],
   "source": [
    "m.g"
   ]
  },
  {
   "cell_type": "code",
   "execution_count": null,
   "metadata": {},
   "outputs": [],
   "source": [
    "m.__dict__.get('g')"
   ]
  },
  {
   "cell_type": "code",
   "execution_count": null,
   "metadata": {},
   "outputs": [],
   "source": [
    "m.__dict__.keys()"
   ]
  },
  {
   "cell_type": "code",
   "execution_count": null,
   "metadata": {},
   "outputs": [],
   "source": []
  },
  {
   "cell_type": "code",
   "execution_count": null,
   "metadata": {},
   "outputs": [],
   "source": []
  }
 ],
 "metadata": {
  "kernelspec": {
   "display_name": "Python 3.6",
   "language": "python",
   "name": "python3.6"
  },
  "language_info": {
   "codemirror_mode": {
    "name": "ipython",
    "version": 3
   },
   "file_extension": ".py",
   "mimetype": "text/x-python",
   "name": "python",
   "nbconvert_exporter": "python",
   "pygments_lexer": "ipython3",
   "version": "3.6.9"
  }
 },
 "nbformat": 4,
 "nbformat_minor": 4
}
